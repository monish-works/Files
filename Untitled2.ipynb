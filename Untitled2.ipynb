{
  "nbformat": 4,
  "nbformat_minor": 0,
  "metadata": {
    "colab": {
      "provenance": []
    },
    "kernelspec": {
      "name": "python3",
      "display_name": "Python 3"
    },
    "language_info": {
      "name": "python"
    }
  },
  "cells": [
    {
      "cell_type": "markdown",
      "source": [
        "1.What is the difference between interpreted and compiled languages?\n",
        "- The key difference between compiled and interpreted languages lies in how they translate and execute code: compiled languages translate the entire program into machine code before execution, while interpreted languages translate and execute code line by line during runtime."
      ],
      "metadata": {
        "id": "CP_6c-d94Jyn"
      }
    },
    {
      "cell_type": "markdown",
      "source": [
        "2.What is exception handling in Python?\n",
        "- In Python, exception handling allows you to gracefully manage errors that occur during program execution, preventing crashes and enabling more robust code. You use try and except blocks to catch and handle potential exceptions, allowing your program to continue running even if an error occurs."
      ],
      "metadata": {
        "id": "L7P2Svrz4cVk"
      }
    },
    {
      "cell_type": "markdown",
      "source": [
        "3.What is the purpose of the finally block in exception handling?\n",
        "- The purpose of the finally block in exception handling is to ensure that a specific block of code, typically for resource cleanup, always executes regardless of whether an exception is thrown or not, or even if an exception is thrown and not caught."
      ],
      "metadata": {
        "id": "YeHHicOH4pZ_"
      }
    },
    {
      "cell_type": "markdown",
      "source": [
        "4.What is logging in Python?\n",
        "- In Python, logging is a built-in module that allows you to track events, debug issues, and monitor the health of your applications by recording messages with different severity levels (like DEBUG, INFO, WARNING, ERROR, CRITICAL) to files or other destinations."
      ],
      "metadata": {
        "id": "lddt1-rs41DS"
      }
    },
    {
      "cell_type": "markdown",
      "source": [
        "5.What is the significance of the __del__ method in Python?\n",
        "- In Python, the __del__ method, also known as the destructor, is called by the garbage collector just before an object is destroyed, allowing for cleanup of resources like file handles or network connections."
      ],
      "metadata": {
        "id": "bpNlW2b35A5I"
      }
    },
    {
      "cell_type": "markdown",
      "source": [
        "6.What is the difference between import and from ... import in Python?\n",
        "- In general, you should use the import statement when you need to use many attributes from a module, or when the module name is short and easy to remember. You should use the from statement when you only need to use a few attributes from a module, or when the module name is long and hard to remember."
      ],
      "metadata": {
        "id": "DmVCHXWt5Nx2"
      }
    },
    {
      "cell_type": "markdown",
      "source": [
        "7.How can you handle multiple exceptions in Python?\n",
        "- In Python, you can handle multiple exceptions by using a single except block with a tuple of exception types or by using multiple except blocks, each handling a specific exception type."
      ],
      "metadata": {
        "id": "j1Yeu9s-5Yy0"
      }
    },
    {
      "cell_type": "markdown",
      "source": [
        "8.What is the purpose of the with statement when handling files in Python?\n",
        "- The with statement in Python, when used with file handling, ensures that a file is automatically closed after its operations are complete, even if errors occur, simplifying resource management and preventing potential issues."
      ],
      "metadata": {
        "id": "A6xpQ94r5ih9"
      }
    },
    {
      "cell_type": "markdown",
      "source": [
        "9.What is the difference between multithreading and multiprocessing?\n",
        "- Multithreading involves running multiple threads within a single process, while multiprocessing involves running multiple processes independently on different cores, each with its own memory space."
      ],
      "metadata": {
        "id": "fXen9OUK5sR6"
      }
    },
    {
      "cell_type": "markdown",
      "source": [
        "10.What are the advantages of using logging in a program?\n",
        "- Logging in programs offers numerous advantages, including aiding in debugging, monitoring application behavior, improving security, and facilitating performance analysis and optimization, as well as providing a record of events for future reference."
      ],
      "metadata": {
        "id": "Q1yyslEU52tH"
      }
    },
    {
      "cell_type": "markdown",
      "source": [
        "11.What is memory management in Python?\n",
        "- In Python, memory management is the automated process of allocating and deallocating memory for objects, handled primarily through reference counting and garbage collection to ensure efficient memory usage and prevent leaks."
      ],
      "metadata": {
        "id": "pyxiEXC_6Asa"
      }
    },
    {
      "cell_type": "markdown",
      "source": [
        "12.What are the basic steps involved in exception handling in Python?\n",
        "- In Python, exception handling involves using try, except, else, and finally blocks to manage errors gracefully. You place code that might raise an exception in the try block, handle specific exceptions in except blocks, execute code if no exception occurs in the else block, and ensure cleanup in the finally block."
      ],
      "metadata": {
        "id": "Ed4y8zc-6NRH"
      }
    },
    {
      "cell_type": "markdown",
      "source": [
        "13.Why is memory management important in Python?\n",
        "- Memory management is crucial in Python because it directly impacts performance, resource usage, and the overall stability of your programs, especially when dealing with large datasets or complex applications. Python's automatic memory management, while convenient, can still lead to inefficiencies if not understood and managed properly."
      ],
      "metadata": {
        "id": "GOEjz3706k3g"
      }
    },
    {
      "cell_type": "markdown",
      "source": [
        "14.What is the role of try and except in exception handling?\n",
        "- In exception handling, the try block tests a code section for potential errors, and the except block handles the error if one occurs, allowing the program to continue running instead of crashing."
      ],
      "metadata": {
        "id": "bp9bj56s7YFm"
      }
    },
    {
      "cell_type": "markdown",
      "source": [
        "15.How does Python's garbage collection system work?\n",
        "- Python's garbage collection primarily relies on a hybrid approach of reference counting and generational garbage collection to automatically manage memory, freeing up resources when objects are no longer in use."
      ],
      "metadata": {
        "id": "MjYryTOu7hHe"
      }
    },
    {
      "cell_type": "markdown",
      "source": [
        "16.What is the purpose of the else block in exception handling?\n",
        "- In exception handling, the else block is executed only if no exceptions are raised within the try block. It allows you to execute code that should run only when the code in the try block executes successfully."
      ],
      "metadata": {
        "id": "0LRcXuAQ7s5o"
      }
    },
    {
      "cell_type": "markdown",
      "source": [
        "17.What are the common logging levels in Python?\n",
        "- In Python's logging module, there are five common logging levels, each representing a different severity of events:\n",
        "\n",
        "DEBUG (10) – Detailed information, useful for diagnosing problems.\n",
        "INFO (20) – General messages that confirm the program is working as expected.\n",
        "WARNING (30) – Indicates something unexpected happened or a potential issue.\n",
        "ERROR (40) – A serious problem that prevents part of the program from functioning.\n",
        "CRITICAL (50) – A very severe error that might cause the program to stop running."
      ],
      "metadata": {
        "id": "aiqd-5cI8Cze"
      }
    },
    {
      "cell_type": "markdown",
      "source": [
        "18.What is the difference between os.fork() and multiprocessing in Python?\n",
        "- os.fork() is a low-level system call that creates a new child process by duplicating the parent process.\n",
        "Only available on UNIX-based systems (Linux, macOS); not available on Windows.\n",
        "The child process receives a copy of the parent’s memory space, but changes in memory do not affect the parent.\n",
        "The multiprocessing module provides a high-level API for process creation.\n",
        "Works on all platforms, including Windows and UNIX.\n",
        "Uses a more Pythonic approach, allowing process management, shared memory, and inter-process communication (IPC)."
      ],
      "metadata": {
        "id": "5JN5Iazl8sJh"
      }
    },
    {
      "cell_type": "markdown",
      "source": [
        "19.What is the importance of closing a file in Python?\n",
        "- Closing files in Python is an essential practice that helps maintain data integrity, prevent resource leaks, and ensure the reliability of your applications. By mastering file handling techniques, you can write more robust and efficient Python code that effectively manages file resources."
      ],
      "metadata": {
        "id": "ZmQCLKJQ9dHn"
      }
    },
    {
      "cell_type": "markdown",
      "source": [
        "20.What is the difference between file.read() and file.readline() in Python?\n",
        "- In Python, file.read() reads the entire file content into a single string, while file.readline() reads and returns only the next line from the file as a string."
      ],
      "metadata": {
        "id": "PcSESqmb9-3e"
      }
    },
    {
      "cell_type": "markdown",
      "source": [
        "21.What is the logging module in Python used for?\n",
        "- The Python logging module is a powerful tool for tracking events, debugging issues, and monitoring the health of applications by allowing developers to record information about events that occur during program execution, such as errors, warnings, and debugging messages."
      ],
      "metadata": {
        "id": "KIAlPS9q-K3v"
      }
    },
    {
      "cell_type": "markdown",
      "source": [
        "22.What is the os module in Python used for in file handling?\n",
        "- Python has a built-in os module with methods for interacting with the operating system, like creating files and directories, management of files and directories, input, output, environment variables, process management, etc."
      ],
      "metadata": {
        "id": "-V1tzRfD-X77"
      }
    },
    {
      "cell_type": "markdown",
      "source": [
        "23.What are the challenges associated with memory management in Python?\n",
        "- Python's automatic memory management, while simplifying development, presents challenges like potential memory leaks due to circular references and the difficulty in debugging memory issues, especially when dealing with large datasets or complex algorithms."
      ],
      "metadata": {
        "id": "8T1r3OrW-h9C"
      }
    },
    {
      "cell_type": "markdown",
      "source": [
        "24.How do you raise an exception manually in Python?\n",
        "- The raise keyword is used to raise an exception. You can define what kind of error to raise, and the text to print to the user."
      ],
      "metadata": {
        "id": "yjGm4Y_p-rQG"
      }
    },
    {
      "cell_type": "markdown",
      "source": [
        "25.Why is it important to use multithreading in certain applications?\n",
        "- Multithreading is crucial for applications demanding high performance, responsiveness, and scalability, as it allows for concurrent execution of tasks within a single program, improving resource utilization and overall efficiency."
      ],
      "metadata": {
        "id": "_hiJanls-12e"
      }
    },
    {
      "cell_type": "markdown",
      "source": [
        "# code"
      ],
      "metadata": {
        "id": "FW0ZLtSJ_BJY"
      }
    },
    {
      "cell_type": "markdown",
      "source": [
        "1.How can you open a file for writing in Python and write a string to it?"
      ],
      "metadata": {
        "id": "GyAsCygd_NHA"
      }
    },
    {
      "cell_type": "code",
      "source": [
        "# Open the file in write mode\n",
        "file = open(\"example.txt\", \"w\")\n",
        "\n",
        "# Write a string to the file\n",
        "file.write(\"Hello, this is a test string!\")\n",
        "\n",
        "# Close the file\n",
        "file.close()\n"
      ],
      "metadata": {
        "id": "rR4OhUQy_f5r"
      },
      "execution_count": 1,
      "outputs": []
    },
    {
      "cell_type": "markdown",
      "source": [
        "2.Write a Python program to read the contents of a file and print each line?"
      ],
      "metadata": {
        "id": "D3c72qOp_lQj"
      }
    },
    {
      "cell_type": "code",
      "source": [
        "# Open the file in read mode\n",
        "with open(\"example.txt\", \"r\") as file:\n",
        "    for line in file:  # Read file line by line\n",
        "        print(line.strip())  # Strip removes extra spaces or newlines\n"
      ],
      "metadata": {
        "colab": {
          "base_uri": "https://localhost:8080/"
        },
        "id": "ZrysjPUo_sUp",
        "outputId": "e4fa3689-c1e6-4529-c142-8d6e691469ab"
      },
      "execution_count": 2,
      "outputs": [
        {
          "output_type": "stream",
          "name": "stdout",
          "text": [
            "Hello, this is a test string!\n"
          ]
        }
      ]
    },
    {
      "cell_type": "markdown",
      "source": [
        "3.How would you handle a case where the file doesn't exist while trying to open it for reading?"
      ],
      "metadata": {
        "id": "HYS2fBWX_2Vy"
      }
    },
    {
      "cell_type": "code",
      "source": [
        "try:\n",
        "    with open(\"example.txt\", \"r\") as file:\n",
        "        for line in file:\n",
        "            print(line.strip())  # Read and print each line\n",
        "except FileNotFoundError:\n",
        "    print(\"Error: The file does not exist. Please check the file name and path.\")\n"
      ],
      "metadata": {
        "colab": {
          "base_uri": "https://localhost:8080/"
        },
        "id": "KDesQ4MA_6-s",
        "outputId": "0040b38f-3b4a-4d04-d4e1-85889945834c"
      },
      "execution_count": 3,
      "outputs": [
        {
          "output_type": "stream",
          "name": "stdout",
          "text": [
            "Hello, this is a test string!\n"
          ]
        }
      ]
    },
    {
      "cell_type": "markdown",
      "source": [
        "4.Write a Python script that reads from one file and writes its content to another file?"
      ],
      "metadata": {
        "id": "tAQjqsyXABtZ"
      }
    },
    {
      "cell_type": "code",
      "source": [
        "# Define file names\n",
        "source_file = \"source.txt\"\n",
        "destination_file = \"destination.txt\"\n",
        "\n",
        "try:\n",
        "    # Open source file for reading and destination file for writing\n",
        "    with open(source_file, \"r\") as src, open(destination_file, \"w\") as dest:\n",
        "        for line in src:  # Read each line from source\n",
        "            dest.write(line)  # Write to destination file\n",
        "\n",
        "    print(f\"Contents copied from '{source_file}' to '{destination_file}' successfully.\")\n",
        "except FileNotFoundError:\n",
        "    print(f\"Error: The file '{source_file}' does not exist.\")\n",
        "except Exception as e:\n",
        "    print(f\"An unexpected error occurred: {e}\")\n"
      ],
      "metadata": {
        "colab": {
          "base_uri": "https://localhost:8080/"
        },
        "id": "TPx5H9BLAGpQ",
        "outputId": "923cf3b1-de1e-4ad5-fdae-9ecc0c92a15e"
      },
      "execution_count": 4,
      "outputs": [
        {
          "output_type": "stream",
          "name": "stdout",
          "text": [
            "Error: The file 'source.txt' does not exist.\n"
          ]
        }
      ]
    },
    {
      "cell_type": "markdown",
      "source": [
        "5.How would you catch and handle division by zero error in Python?\n"
      ],
      "metadata": {
        "id": "tiLGa91xAOgp"
      }
    },
    {
      "cell_type": "code",
      "source": [
        "try:\n",
        "    num = int(input(\"Enter a number: \"))  # User input\n",
        "    result = 10 / num  # Risky operation\n",
        "    print(f\"Result: {result}\")\n",
        "except ZeroDivisionError:\n",
        "    print(\"Error: Cannot divide by zero.\")\n",
        "except ValueError:\n",
        "    print(\"Error: Invalid input. Please enter a valid number.\")\n",
        "except Exception as e:\n",
        "    print(f\"An unexpected error occurred: {e}\")\n"
      ],
      "metadata": {
        "colab": {
          "base_uri": "https://localhost:8080/"
        },
        "id": "bmo6HIypAcFI",
        "outputId": "42ff241f-96a5-4c90-bb99-984b93c028b8"
      },
      "execution_count": 5,
      "outputs": [
        {
          "output_type": "stream",
          "name": "stdout",
          "text": [
            "Enter a number: 5\n",
            "Result: 2.0\n"
          ]
        }
      ]
    },
    {
      "cell_type": "markdown",
      "source": [
        "6.Write a Python program that logs an error message to a log file when a division by zero exception occurs?"
      ],
      "metadata": {
        "id": "WW4lJsfdAjIK"
      }
    },
    {
      "cell_type": "code",
      "source": [
        "import logging\n",
        "\n",
        "# Configure logging\n",
        "logging.basicConfig(filename=\"error.log\", level=logging.ERROR,\n",
        "                    format=\"%(asctime)s - %(levelname)s - %(message)s\")\n",
        "\n",
        "def divide_numbers(a, b):\n",
        "    try:\n",
        "        result = a / b\n",
        "        print(f\"Result: {result}\")\n",
        "    except ZeroDivisionError:\n",
        "        logging.error(\"Attempted to divide by zero.\")\n",
        "        print(\"Error: Cannot divide by zero. Check error.log for details.\")\n",
        "    except Exception as e:\n",
        "        logging.error(f\"Unexpected error: {e}\")\n",
        "        print(\"An unexpected error occurred. Check error.log for details.\")\n",
        "\n",
        "# Example usage\n",
        "num1 = int(input(\"Enter numerator: \"))\n",
        "num2 = int(input(\"Enter denominator: \"))\n",
        "\n",
        "divide_numbers(num1, num2)\n"
      ],
      "metadata": {
        "colab": {
          "base_uri": "https://localhost:8080/"
        },
        "id": "He5BTIv-Aw0M",
        "outputId": "997a09fa-ceb3-4d43-e682-240cc3a7c0ad"
      },
      "execution_count": null,
      "outputs": [
        {
          "name": "stdout",
          "output_type": "stream",
          "text": [
            "Enter numerator: 5\n"
          ]
        }
      ]
    },
    {
      "cell_type": "markdown",
      "source": [
        "7.How do you log information at different levels (INFO, ERROR, WARNING) in Python using the logging module?"
      ],
      "metadata": {
        "id": "LSC6ZfXBA043"
      }
    },
    {
      "cell_type": "code",
      "source": [
        "import logging\n",
        "\n",
        "# Configure logging\n",
        "logging.basicConfig(\n",
        "    filename=\"app.log\",  # Log file name\n",
        "    level=logging.DEBUG,  # Set the lowest level to capture all logs\n",
        "    format=\"%(asctime)s - %(levelname)s - %(message)s\",  # Log format\n",
        "    datefmt=\"%Y-%m-%d %H:%M:%S\"\n",
        ")\n",
        "\n",
        "# Logging at different levels\n",
        "logging.debug(\"This is a DEBUG message.\")\n",
        "logging.info(\"This is an INFO message.\")\n",
        "logging.warning(\"This is a WARNING message.\")\n",
        "logging.error(\"This is an ERROR message.\")\n",
        "logging.critical(\"This is a CRITICAL message.\")\n",
        "\n",
        "print(\"Logging complete. Check 'app.log' for details.\")\n"
      ],
      "metadata": {
        "id": "USXk1ysdA549"
      },
      "execution_count": null,
      "outputs": []
    },
    {
      "cell_type": "markdown",
      "source": [
        "8.Write a program to handle a file opening error using exception handling?"
      ],
      "metadata": {
        "id": "0OA_SqFoBCkp"
      }
    },
    {
      "cell_type": "code",
      "source": [
        "def read_file(filename):\n",
        "    try:\n",
        "        with open(filename, \"r\") as file:\n",
        "            content = file.read()\n",
        "            print(\"File Content:\\n\", content)\n",
        "    except FileNotFoundError:\n",
        "        print(f\"Error: The file '{filename}' does not exist.\")\n",
        "    except PermissionError:\n",
        "        print(f\"Error: Permission denied to open '{filename}'.\")\n",
        "    except Exception as e:\n",
        "        print(f\"An unexpected error occurred: {e}\")\n",
        "\n",
        "# Example usage\n",
        "filename = input(\"Enter the file name: \")\n",
        "read_file(filename)\n"
      ],
      "metadata": {
        "id": "QK4n_QGvBG_N"
      },
      "execution_count": null,
      "outputs": []
    },
    {
      "cell_type": "markdown",
      "source": [
        "9.How can you read a file line by line and store its content in a list in Python?"
      ],
      "metadata": {
        "id": "H8oCRNABBM5l"
      }
    },
    {
      "cell_type": "code",
      "source": [
        "with open(\"example.txt\", \"r\") as file:\n",
        "    lines = file.readlines()  # Reads all lines into a list\n",
        "\n",
        "# Remove newline characters\n",
        "lines = [line.strip() for line in lines]\n",
        "\n",
        "print(lines)\n"
      ],
      "metadata": {
        "id": "th3uObVwBR67"
      },
      "execution_count": null,
      "outputs": []
    },
    {
      "cell_type": "markdown",
      "source": [
        "10.How can you append data to an existing file in Python?"
      ],
      "metadata": {
        "id": "yj56_TYtBY9-"
      }
    },
    {
      "cell_type": "code",
      "source": [
        "with open(\"example.txt\", \"a\") as file:\n",
        "    file.write(\"\\nThis is a new line added to the file.\")\n"
      ],
      "metadata": {
        "id": "1Iog9ewnBfXn"
      },
      "execution_count": null,
      "outputs": []
    },
    {
      "cell_type": "markdown",
      "source": [
        "11.Write a Python program that uses a try-except block to handle an error when attempting to access a dictionary key that doesn't exist"
      ],
      "metadata": {
        "id": "7MVrfYwMBniQ"
      }
    },
    {
      "cell_type": "code",
      "source": [
        "# Sample dictionary\n",
        "student_scores = {\"Alice\": 85, \"Bob\": 90, \"Charlie\": 78}\n",
        "\n",
        "try:\n",
        "    # Attempt to access a key that may not exist\n",
        "    name = input(\"Enter student name: \")\n",
        "    score = student_scores[name]  # This may raise a KeyError\n",
        "    print(f\"{name}'s score: {score}\")\n",
        "\n",
        "except KeyError:\n",
        "    print(f\"Error: '{name}' not found in student records.\")\n"
      ],
      "metadata": {
        "id": "1-1kzAUbBtKK"
      },
      "execution_count": null,
      "outputs": []
    },
    {
      "cell_type": "markdown",
      "source": [
        "12.Write a program that demonstrates using multiple except blocks to handle different types of exceptions?"
      ],
      "metadata": {
        "id": "7EgQ9_siB1Xr"
      }
    },
    {
      "cell_type": "code",
      "source": [
        "def divide_numbers():\n",
        "    try:\n",
        "        num1 = int(input(\"Enter numerator: \"))  # May raise ValueError\n",
        "        num2 = int(input(\"Enter denominator: \"))  # May raise ValueError\n",
        "        result = num1 / num2  # May raise ZeroDivisionError\n",
        "        print(f\"Result: {result}\")\n",
        "\n",
        "    except ValueError:\n",
        "        print(\"Error: Invalid input. Please enter numeric values.\")\n",
        "\n",
        "    except ZeroDivisionError:\n",
        "        print(\"Error: Division by zero is not allowed.\")\n",
        "\n",
        "    except Exception as e:  # Generic exception (catches unexpected errors)\n",
        "        print(f\"An unexpected error occurred: {e}\")\n",
        "\n",
        "# Run the function\n",
        "divide_numbers()\n"
      ],
      "metadata": {
        "id": "0pj2bqIoB6uH"
      },
      "execution_count": null,
      "outputs": []
    },
    {
      "cell_type": "markdown",
      "source": [
        "13.How would you check if a file exists before attempting to read it in Python?"
      ],
      "metadata": {
        "id": "mbDi_6LkCD05"
      }
    },
    {
      "cell_type": "code",
      "source": [
        "import os\n",
        "\n",
        "filename = \"example.txt\"\n",
        "\n",
        "if os.path.exists(filename):\n",
        "    with open(filename, \"r\") as file:\n",
        "        content = file.read()\n",
        "        print(\"File Content:\\n\", content)\n",
        "else:\n",
        "    print(f\"Error: The file '{filename}' does not exist.\")\n"
      ],
      "metadata": {
        "id": "EPuhofeQCJOw"
      },
      "execution_count": null,
      "outputs": []
    },
    {
      "cell_type": "markdown",
      "source": [
        "14.Write a program that uses the logging module to log both informational and error messages."
      ],
      "metadata": {
        "id": "CWNYpOZaCP3O"
      }
    },
    {
      "cell_type": "code",
      "source": [
        "import logging\n",
        "\n",
        "# Configure logging\n",
        "logging.basicConfig(\n",
        "    filename=\"app.log\",  # Log file name\n",
        "    level=logging.DEBUG,  # Log all levels (DEBUG and above)\n",
        "    format=\"%(asctime)s - %(levelname)s - %(message)s\",  # Log format\n",
        "    datefmt=\"%Y-%m-%d %H:%M:%S\"\n",
        ")\n",
        "\n",
        "def divide_numbers(a, b):\n",
        "    try:\n",
        "        logging.info(f\"Attempting to divide {a} by {b}\")\n",
        "        result = a / b\n",
        "        logging.info(f\"Division successful: {a} / {b} = {result}\")\n",
        "        return result\n",
        "    except ZeroDivisionError:\n",
        "        logging.error(\"Error: Division by zero attempted.\")\n",
        "        return \"Error: Cannot divide by zero.\"\n",
        "    except Exception as e:\n",
        "        logging.error(f\"Unexpected error: {e}\")\n",
        "        return f\"Error: {e}\"\n",
        "\n",
        "# Example usage\n",
        "num1 = int(input(\"Enter numerator: \"))\n",
        "num2 = int(input(\"Enter denominator: \"))\n",
        "\n",
        "result = divide_numbers(num1, num2)\n",
        "print(result)\n"
      ],
      "metadata": {
        "id": "xvbETpZBCYcL"
      },
      "execution_count": null,
      "outputs": []
    },
    {
      "cell_type": "markdown",
      "source": [
        "15.Write a Python program that prints the content of a file and handles the case when the file is empty?"
      ],
      "metadata": {
        "id": "ZXqX_bSnCibx"
      }
    },
    {
      "cell_type": "code",
      "source": [
        "def read_file(filename):\n",
        "    try:\n",
        "        with open(filename, \"r\") as file:\n",
        "            content = file.read().strip()  # Read and remove extra spaces/newlines\n",
        "\n",
        "            if not content:  # Check if the file is empty\n",
        "                print(f\"Error: The file '{filename}' is empty.\")\n",
        "            else:\n",
        "                print(\"File Content:\\n\", content)\n",
        "\n",
        "    except FileNotFoundError:\n",
        "        print(f\"Error: The file '{filename}' does not exist.\")\n",
        "    except PermissionError:\n",
        "        print(f\"Error: Permission denied to open '{filename}'.\")\n",
        "    except Exception as e:\n",
        "        print(f\"An unexpected error occurred: {e}\")\n",
        "\n",
        "# Example usage\n",
        "filename = input(\"Enter the file name: \")\n",
        "read_file(filename)\n"
      ],
      "metadata": {
        "id": "bXbqjcQTCp6Z"
      },
      "execution_count": null,
      "outputs": []
    },
    {
      "cell_type": "markdown",
      "source": [
        "16.Demonstrate how to use memory profiling to check the memory usage of a small program."
      ],
      "metadata": {
        "id": "HLENHbcICyhs"
      }
    },
    {
      "cell_type": "code",
      "source": [
        "from memory_profiler import profile\n",
        "\n",
        "@profile\n",
        "def memory_test():\n",
        "    # Create a list with a large number of elements\n",
        "    numbers = [i for i in range(100000)]\n",
        "\n",
        "    # Create a dictionary\n",
        "    data = {i: i * 2 for i in range(50000)}\n",
        "\n",
        "    # Remove reference to free memory\n",
        "    del numbers\n",
        "    del data\n",
        "\n",
        "memory_test()\n"
      ],
      "metadata": {
        "id": "QwZzP-zzDWmh"
      },
      "execution_count": null,
      "outputs": []
    },
    {
      "cell_type": "markdown",
      "source": [
        "17.Write a Python program to create and write a list of numbers to a file, one number per line."
      ],
      "metadata": {
        "id": "RuOFd5rhDfg2"
      }
    },
    {
      "cell_type": "code",
      "source": [
        "def write_numbers_to_file(filename, numbers):\n",
        "    try:\n",
        "        with open(filename, \"w\") as file:\n",
        "            for number in numbers:\n",
        "                file.write(f\"{number}\\n\")  # Write each number on a new line\n",
        "        print(f\"Numbers successfully written to '{filename}'.\")\n",
        "\n",
        "    except Exception as e:\n",
        "        print(f\"An error occurred: {e}\")\n",
        "\n",
        "# Example usage\n",
        "numbers_list = list(range(1, 21))  # Create a list of numbers from 1 to 20\n",
        "write_numbers_to_file(\"numbers.txt\", numbers_list)\n"
      ],
      "metadata": {
        "id": "52A6Oi4XDxl3"
      },
      "execution_count": null,
      "outputs": []
    },
    {
      "cell_type": "markdown",
      "source": [
        "18.How would you implement a basic logging setup that logs to a file with rotation after 1MB?"
      ],
      "metadata": {
        "id": "snHTVQ6aD1EA"
      }
    },
    {
      "cell_type": "code",
      "source": [
        "import logging\n",
        "from logging.handlers import RotatingFileHandler\n",
        "\n",
        "# Configure logging\n",
        "log_filename = \"app.log\"\n",
        "log_handler = RotatingFileHandler(log_filename, maxBytes=1_000_000, backupCount=3)\n",
        "\n",
        "# Set logging format\n",
        "formatter = logging.Formatter(\"%(asctime)s - %(levelname)s - %(message)s\", \"%Y-%m-%d %H:%M:%S\")\n",
        "log_handler.setFormatter(formatter)\n",
        "\n",
        "# Create logger\n",
        "logger = logging.getLogger(\"MyLogger\")\n",
        "logger.setLevel(logging.DEBUG)  # Log DEBUG and above\n",
        "logger.addHandler(log_handler)\n",
        "\n",
        "# Example logging usage\n",
        "for i in range(10000):  # Generate many log entries to trigger rotation\n",
        "    logger.info(f\"This is log entry {i}\")\n"
      ],
      "metadata": {
        "id": "RbxIF3IpD6I_"
      },
      "execution_count": null,
      "outputs": []
    },
    {
      "cell_type": "markdown",
      "source": [
        "19.Write a program that handles both IndexError and KeyError using a try-except block."
      ],
      "metadata": {
        "id": "DR0hd5CuEDFN"
      }
    },
    {
      "cell_type": "code",
      "source": [
        "def handle_exceptions():\n",
        "    my_list = [10, 20, 30]  # A list with 3 elements\n",
        "    my_dict = {\"name\": \"Alice\", \"age\": 25}  # A dictionary with 2 keys\n",
        "\n",
        "    try:\n",
        "        # Attempt to access an out-of-range index\n",
        "        print(\"List value:\", my_list[5])\n",
        "\n",
        "        # Attempt to access a missing dictionary key\n",
        "        print(\"City:\", my_dict[\"city\"])\n",
        "\n",
        "    except IndexError:\n",
        "        print(\"Error: List index is out of range.\")\n",
        "\n",
        "    except KeyError:\n",
        "        print(\"Error: Dictionary key not found.\")\n",
        "\n",
        "    except Exception as e:\n",
        "        print(f\"An unexpected error occurred: {e}\")\n",
        "\n",
        "# Run the function\n",
        "handle_exceptions()\n"
      ],
      "metadata": {
        "id": "ihfeOVk9EHBu"
      },
      "execution_count": null,
      "outputs": []
    },
    {
      "cell_type": "markdown",
      "source": [
        "20.How would you open a file and read its contents using a context manager in Python?"
      ],
      "metadata": {
        "id": "rd160yYJEOej"
      }
    },
    {
      "cell_type": "code",
      "source": [
        "filename = \"example.txt\"\n",
        "\n",
        "try:\n",
        "    with open(filename, \"r\") as file:\n",
        "        content = file.read()  # Read the entire file\n",
        "        print(\"File Content:\\n\", content)\n",
        "\n",
        "except FileNotFoundError:\n",
        "    print(f\"Error: The file '{filename}' does not exist.\")\n",
        "except Exception as e:\n",
        "    print(f\"An unexpected error occurred: {e}\")\n"
      ],
      "metadata": {
        "id": "LH4O-eHVETog"
      },
      "execution_count": null,
      "outputs": []
    },
    {
      "cell_type": "markdown",
      "source": [
        "21.Write a Python program that reads a file and prints the number of occurrences of a specific word."
      ],
      "metadata": {
        "id": "RFt6unvVEd1G"
      }
    },
    {
      "cell_type": "code",
      "source": [
        "def count_word_occurrences(filename, word):\n",
        "    try:\n",
        "        with open(filename, \"r\") as file:\n",
        "            content = file.read().lower()  # Read file and convert to lowercase\n",
        "            word_count = content.split().count(word.lower())  # Count occurrences\n",
        "\n",
        "            print(f\"The word '{word}' appears {word_count} times in '{filename}'.\")\n",
        "\n",
        "    except FileNotFoundError:\n",
        "        print(f\"Error: The file '{filename}' does not exist.\")\n",
        "    except Exception as e:\n",
        "        print(f\"An unexpected error occurred: {e}\")\n",
        "\n",
        "# Example usage\n",
        "filename = input(\"Enter the filename: \")\n",
        "word = input(\"Enter the word to count: \")\n",
        "count_word_occurrences(filename, word)\n"
      ],
      "metadata": {
        "id": "zzu9zRjzEljp"
      },
      "execution_count": null,
      "outputs": []
    },
    {
      "cell_type": "markdown",
      "source": [
        "22.How can you check if a file is empty before attempting to read its contents?"
      ],
      "metadata": {
        "id": "Rx2iYp2iEtpW"
      }
    },
    {
      "cell_type": "code",
      "source": [
        "import os\n",
        "\n",
        "filename = \"example.txt\"\n",
        "\n",
        "if os.path.exists(filename) and os.path.getsize(filename) == 0:\n",
        "    print(f\"Error: The file '{filename}' is empty.\")\n",
        "else:\n",
        "    with open(filename, \"r\") as file:\n",
        "        content = file.read()\n",
        "        print(\"File Content:\\n\", content)\n"
      ],
      "metadata": {
        "id": "Yp8D4i0kE1Jy"
      },
      "execution_count": null,
      "outputs": []
    },
    {
      "cell_type": "markdown",
      "source": [
        "23.Write a Python program that writes to a log file when an error occurs during file handling?"
      ],
      "metadata": {
        "id": "5Gdpz7diE9KL"
      }
    },
    {
      "cell_type": "code",
      "source": [
        "import logging\n",
        "\n",
        "# Configure logging\n",
        "logging.basicConfig(filename=\"file_errors.log\", level=logging.ERROR,\n",
        "                    format=\"%(asctime)s - %(levelname)s - %(message)s\",\n",
        "                    datefmt=\"%Y-%m-%d %H:%M:%S\")\n",
        "\n",
        "def read_file(filename):\n",
        "    try:\n",
        "        with open(filename, \"r\") as file:\n",
        "            content = file.read()\n",
        "            print(\"File Content:\\n\", content)\n",
        "\n",
        "    except FileNotFoundError:\n",
        "        logging.error(f\"File '{filename}' not found.\")\n",
        "        print(f\"Error: The file '{filename}' does not exist.\")\n",
        "\n",
        "    except PermissionError:\n",
        "        logging.error(f\"Permission denied for file '{filename}'.\")\n",
        "        print(f\"Error: Permission denied to read '{filename}'.\")\n",
        "\n",
        "    except Exception as e:\n",
        "        logging.error(f\"Unexpected error with file '{filename}': {e}\")\n",
        "        print(f\"An unexpected error occurred: {e}\")\n",
        "\n",
        "# Example usage\n",
        "filename = input(\"Enter the file name: \")\n",
        "read_file(filename)\n"
      ],
      "metadata": {
        "id": "pVrpTs8kFB6x"
      },
      "execution_count": null,
      "outputs": []
    }
  ]
}